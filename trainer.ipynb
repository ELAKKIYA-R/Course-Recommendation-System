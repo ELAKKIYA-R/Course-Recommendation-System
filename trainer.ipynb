{
 "cells": [
  {
   "cell_type": "code",
   "execution_count": 1,
   "metadata": {
    "executionInfo": {
     "elapsed": 1262,
     "status": "ok",
     "timestamp": 1700900823711,
     "user": {
      "displayName": "Elakkiya R",
      "userId": "17984129878727394572"
     },
     "user_tz": -330
    },
    "id": "rY_OJWNOXgay"
   },
   "outputs": [],
   "source": [
    "# Import python libraries\n",
    "import numpy  as np\n",
    "import pandas as pd\n",
    "\n",
    "# Load dataset to pandas dataframe\n",
    "df = pd.read_csv(\"Coursera.csv\")"
   ]
  },
  {
   "cell_type": "code",
   "execution_count": 2,
   "metadata": {
    "executionInfo": {
     "elapsed": 479,
     "status": "ok",
     "timestamp": 1700901353182,
     "user": {
      "displayName": "Elakkiya R",
      "userId": "17984129878727394572"
     },
     "user_tz": -330
    },
    "id": "3SEYFMfTY5RP"
   },
   "outputs": [],
   "source": [
    "# Select the key columns that'll be used while building the model\n",
    "courses = df[['Course Name','University','Difficulty Level','Course Rating','Course URL','Course Description','Skills']]\n",
    "\n",
    "# Drop any null values from the database\n",
    "courses.isnull().sum()\n",
    "courses.dropna(inplace = True)"
   ]
  },
  {
   "cell_type": "code",
   "execution_count": 3,
   "metadata": {
    "executionInfo": {
     "elapsed": 3263,
     "status": "ok",
     "timestamp": 1700901519418,
     "user": {
      "displayName": "Elakkiya R",
      "userId": "17984129878727394572"
     },
     "user_tz": -330
    },
    "id": "pOxVLqpTljzq"
   },
   "outputs": [],
   "source": [
    "# Function to transform the data to a standard format\n",
    "def convert(obj):\n",
    "    s = list(obj)\n",
    "    for i in range(len(s)):\n",
    "      if s[i] == '|':\n",
    "        s[i] = \" \"\n",
    "\n",
    "    temp_str = \"\".join(s)\n",
    "    temp_list = temp_str.split()\n",
    "\n",
    "    return temp_list\n",
    "\n",
    "# Apply the convert function to all the columns\n",
    "courses['Course Name'] = courses['Course Name'].apply(convert)\n",
    "courses['University'] = courses['University'].apply(convert)\n",
    "courses['Difficulty Level'] = courses['Difficulty Level'].apply(convert)\n",
    "courses['Course Rating'] = courses['Course Rating'].apply(convert)\n",
    "courses['Course URL'] = courses['Course URL'].apply(convert)\n",
    "courses['Course Description'] = courses['Course Description'].apply(convert)\n",
    "courses['Skills'] = courses['Skills'].apply(convert)\n",
    "\n",
    "# Stem the data to reduce words to their base form\n",
    "import nltk\n",
    "from nltk.stem.porter import PorterStemmer\n",
    "ps = PorterStemmer()\n",
    "\n",
    "def stem(text):\n",
    "    y = []\n",
    "    for i in text.split():\n",
    "        y.append(ps.stem(i))\n",
    "\n",
    "    return \" \".join(y)"
   ]
  },
  {
   "cell_type": "code",
   "execution_count": 4,
   "metadata": {
    "colab": {
     "base_uri": "https://localhost:8080/"
    },
    "executionInfo": {
     "elapsed": 16561,
     "status": "ok",
     "timestamp": 1700902925199,
     "user": {
      "displayName": "Elakkiya R",
      "userId": "17984129878727394572"
     },
     "user_tz": -330
    },
    "id": "qbZ98GuSoaZH",
    "outputId": "4e617d97-6aa1-428d-c45a-72567970f764"
   },
   "outputs": [],
   "source": [
    "# Create a new column that combines all characteristics of the courses\n",
    "courses['tags'] = courses['Course Name'] + courses['University'] + courses['Difficulty Level'] + courses['Course Rating'] + courses['Course Description'] + courses['Skills']\n",
    "\n",
    "# Create a new dataframe consisting of Course Name, University and tags\n",
    "new_df = courses[['Course Name','University','tags']]\n",
    "new_df.loc[:, 'tags'] = new_df['tags'].apply(lambda x: \" \".join(x))\n",
    "\n",
    "# Apply the stem function to the tags column of your dataframe\n",
    "new_df.loc[:, 'tags'] = new_df['tags'].apply(stem)"
   ]
  },
  {
   "cell_type": "code",
   "execution_count": 5,
   "metadata": {
    "executionInfo": {
     "elapsed": 1536,
     "status": "ok",
     "timestamp": 1700902966481,
     "user": {
      "displayName": "Elakkiya R",
      "userId": "17984129878727394572"
     },
     "user_tz": -330
    },
    "id": "5O3wnbpat3XI"
   },
   "outputs": [],
   "source": [
    "# Perform text vectorization after disregarding stop words\n",
    "from sklearn.feature_extraction.text import CountVectorizer\n",
    "cv = CountVectorizer(max_features=10000,stop_words='english')\n",
    "\n",
    "# Transform the SciPy sparse matrix to NumPy array form\n",
    "vectors = cv.fit_transform(new_df['tags']).toarray()"
   ]
  },
  {
   "cell_type": "code",
   "execution_count": 6,
   "metadata": {
    "executionInfo": {
     "elapsed": 12106,
     "status": "ok",
     "timestamp": 1700902998381,
     "user": {
      "displayName": "Elakkiya R",
      "userId": "17984129878727394572"
     },
     "user_tz": -330
    },
    "id": "9meJhLxut9Hp"
   },
   "outputs": [],
   "source": [
    "# Calculate the cosine similarity between the vectors\n",
    "from sklearn.metrics.pairwise import cosine_similarity\n",
    "\n",
    "similarity = cosine_similarity(vectors)"
   ]
  },
  {
   "cell_type": "code",
   "execution_count": 7,
   "metadata": {
    "executionInfo": {
     "elapsed": 1152,
     "status": "ok",
     "timestamp": 1700903048915,
     "user": {
      "displayName": "Elakkiya R",
      "userId": "17984129878727394572"
     },
     "user_tz": -330
    },
    "id": "QvUMJV15t-iD"
   },
   "outputs": [],
   "source": [
    "# Take the pickle dump of the results for later use\n",
    "import pickle\n",
    "\n",
    "pickle.dump(new_df,open('courses.pkl','wb'))\n",
    "pickle.dump(new_df.to_dict(),open('course_dict.pkl','wb'))\n",
    "pickle.dump(similarity,open('similarity.pkl','wb'))"
   ]
  },
  {
   "cell_type": "code",
   "execution_count": null,
   "metadata": {
    "id": "ZglgC2FMuwUZ"
   },
   "outputs": [],
   "source": []
  }
 ],
 "metadata": {
  "colab": {
   "authorship_tag": "ABX9TyNCXfaD8JC3s+aP96JtP7qq",
   "provenance": [],
   "toc_visible": true
  },
  "kernelspec": {
   "display_name": "Python 3 (ipykernel)",
   "language": "python",
   "name": "python3"
  },
  "language_info": {
   "codemirror_mode": {
    "name": "ipython",
    "version": 3
   },
   "file_extension": ".py",
   "mimetype": "text/x-python",
   "name": "python",
   "nbconvert_exporter": "python",
   "pygments_lexer": "ipython3",
   "version": "3.10.6"
  }
 },
 "nbformat": 4,
 "nbformat_minor": 1
}
